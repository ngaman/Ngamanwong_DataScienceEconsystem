{
 "cells": [
  {
   "cell_type": "markdown",
   "id": "c0c0cdc8-8cb6-4323-a50b-1e73e4360a78",
   "metadata": {
    "tags": []
   },
   "source": [
    "# Data Science Tools and Ecosystem"
   ]
  },
  {
   "cell_type": "markdown",
   "id": "d0617345-9006-438f-8814-a0e0f7cc4fff",
   "metadata": {
    "tags": []
   },
   "source": [
    "In this notebook, Data Science Tools and Ecosystem are summarized."
   ]
  },
  {
   "cell_type": "markdown",
   "id": "d551f099-1642-4f7d-b5d7-5e8e0907976b",
   "metadata": {
    "tags": []
   },
   "source": [
    "Some of the popular languages that Data Scientists use are:\n",
    "\n",
    "1. Python\n",
    "2. SQL\n",
    "3. R"
   ]
  },
  {
   "cell_type": "markdown",
   "id": "8c9a8513-81d8-4169-a9fd-760466f2fd34",
   "metadata": {
    "tags": []
   },
   "source": [
    "Some of the commonly used libraries used by Data Scientists include:\n",
    "* TensorFlow\n",
    "* NumPy\n",
    "* Pandas"
   ]
  },
  {
   "cell_type": "markdown",
   "id": "453e6d92-37a6-4263-a10e-79122dd6360a",
   "metadata": {
    "tags": []
   },
   "source": [
    "| Data Science Tools |\n",
    "|---------------------|\n",
    "| TensorFlow |\n",
    "| RStudio |\n",
    "| Apache Spark |"
   ]
  },
  {
   "cell_type": "code",
   "execution_count": 15,
   "id": "986a88c3-4798-4507-a0e5-3da43227ee7c",
   "metadata": {
    "tags": []
   },
   "outputs": [
    {
     "data": {
      "text/plain": [
       "17"
      ]
     },
     "execution_count": 15,
     "metadata": {},
     "output_type": "execute_result"
    }
   ],
   "source": [
    "(3*4)+5\n",
    "# This is a simple arithmetic expression to multiply then add integers"
   ]
  },
  {
   "cell_type": "code",
   "execution_count": 16,
   "id": "cbe089d8-d091-465f-bd5f-fc6b7a0dfd2b",
   "metadata": {},
   "outputs": [
    {
     "data": {
      "text/plain": [
       "3.3333333333333335"
      ]
     },
     "execution_count": 16,
     "metadata": {},
     "output_type": "execute_result"
    }
   ],
   "source": [
    "200/60\n",
    "# This will convert 200 minutes to hours by diving by 60"
   ]
  },
  {
   "cell_type": "markdown",
   "id": "af543379-11de-4828-b332-7875d6b1c6e6",
   "metadata": {},
   "source": [
    "**Objective**\n",
    "* List tools for Data Science\n",
    "* List popular languages for Data Science\n",
    "* List commonly used libraries for Data Science"
   ]
  },
  {
   "cell_type": "markdown",
   "id": "7c65fc51-8792-4a22-9fde-aa602f1db68a",
   "metadata": {},
   "source": [
    "## Author\n",
    "Nga Man Wong"
   ]
  }
 ],
 "metadata": {
  "kernelspec": {
   "display_name": "Python 3 (ipykernel)",
   "language": "python",
   "name": "python3"
  },
  "language_info": {
   "codemirror_mode": {
    "name": "ipython",
    "version": 3
   },
   "file_extension": ".py",
   "mimetype": "text/x-python",
   "name": "python",
   "nbconvert_exporter": "python",
   "pygments_lexer": "ipython3",
   "version": "3.9.12"
  }
 },
 "nbformat": 4,
 "nbformat_minor": 5
}
